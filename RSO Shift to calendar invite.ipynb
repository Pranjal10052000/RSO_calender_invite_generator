{
 "cells": [
  {
   "cell_type": "code",
   "execution_count": 36,
   "id": "01b8a15b",
   "metadata": {},
   "outputs": [],
   "source": [
    "def RSO_cal():\n",
    "    path = str(input(\"enter the csv file name\"))\n",
    "    cal_file_name = str(input(\"enter calender file name\"))\n",
    "    \n",
    "    df = pd.read_csv(path)\n",
    "    \n",
    "    #csv cleaning\n",
    "    df['TeamWork'][3]= 'Date'\n",
    "    df.drop(columns=df.columns[0], axis=1,  inplace=True)\n",
    "    new_header = df.iloc[3] #grab the first row for the header\n",
    "    df = df[4:] #take the data less the header row\n",
    "    df.columns = new_header\n",
    "    df.drop(df.tail(2).index, inplace=True)\n",
    "    \n",
    "    #creating calender\n",
    "    calendar = Calendar()\n",
    "\n",
    "    for index, row in df.iterrows():\n",
    "        event = Event()\n",
    "\n",
    "        start_time = datetime.strptime(row['Date'] + ' ' + row['Start'], '%a, %m/%d/%Y %I:%M %p')\n",
    "        end_time = datetime.strptime(row['Date'] + ' ' + row['End'], '%a, %m/%d/%Y %I:%M %p')\n",
    "\n",
    "        if end_time < start_time:  # Handle shifts that end on the next day\n",
    "            end_time += timedelta(days=1)\n",
    "\n",
    "        event.name = \"Shift at \" + row['Station']\n",
    "        event.begin = start_time\n",
    "        event.end = end_time\n",
    "\n",
    "        calendar.events.add(event)\n",
    "\n",
    "    # Save the calendar to an .ics file\n",
    "    with open(cal_file_name , 'w') as invite_file:\n",
    "        invite_file.writelines(calendar)\n",
    "\n",
    "    print(\"Apple Calendar invite files generated successfully!\")"
   ]
  },
  {
   "cell_type": "code",
   "execution_count": 37,
   "id": "58bf0579",
   "metadata": {},
   "outputs": [
    {
     "name": "stdout",
     "output_type": "stream",
     "text": [
      "enter the csv file nameproctoringschedule.csv\n",
      "enter calender file namecal_invite_helena.ics\n",
      "Apple Calendar invite files generated successfully!\n"
     ]
    }
   ],
   "source": [
    "RSO_cal()"
   ]
  },
  {
   "cell_type": "code",
   "execution_count": null,
   "id": "d61e2d9c",
   "metadata": {},
   "outputs": [],
   "source": []
  }
 ],
 "metadata": {
  "kernelspec": {
   "display_name": "Python 3 (ipykernel)",
   "language": "python",
   "name": "python3"
  },
  "language_info": {
   "codemirror_mode": {
    "name": "ipython",
    "version": 3
   },
   "file_extension": ".py",
   "mimetype": "text/x-python",
   "name": "python",
   "nbconvert_exporter": "python",
   "pygments_lexer": "ipython3",
   "version": "3.9.13"
  }
 },
 "nbformat": 4,
 "nbformat_minor": 5
}
